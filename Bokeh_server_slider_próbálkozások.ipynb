{
  "nbformat": 4,
  "nbformat_minor": 0,
  "metadata": {
    "colab": {
      "name": "Bokeh server slider próbálkozások.ipynb",
      "provenance": [],
      "authorship_tag": "ABX9TyNObVMCkuBNuxxprS/V8IO+",
      "include_colab_link": true
    },
    "kernelspec": {
      "name": "python3",
      "display_name": "Python 3"
    }
  },
  "cells": [
    {
      "cell_type": "markdown",
      "metadata": {
        "id": "view-in-github",
        "colab_type": "text"
      },
      "source": [
        "<a href=\"https://colab.research.google.com/github/wesszabo/diffeqexercises/blob/master/Bokeh_server_slider_pr%C3%B3b%C3%A1lkoz%C3%A1sok.ipynb\" target=\"_parent\"><img src=\"https://colab.research.google.com/assets/colab-badge.svg\" alt=\"Open In Colab\"/></a>"
      ]
    },
    {
      "cell_type": "code",
      "metadata": {
        "id": "J2kGsR1SbD4m",
        "colab_type": "code",
        "outputId": "ee8244ee-071f-4621-ccfa-bd28a97bf0ca",
        "colab": {
          "base_uri": "https://localhost:8080/",
          "height": 34
        }
      },
      "source": [
        "############ START BOILERPLATE ############\n",
        "#### Interactivity -- BOKEH\n",
        "import bokeh.plotting.figure as bk_figure\n",
        "from bokeh.io import curdoc, show\n",
        "from bokeh.layouts import row\n",
        "from bokeh.models import ColumnDataSource, Column\n",
        "from bokeh.models.widgets import Slider, TextInput\n",
        "from bokeh.io import output_notebook # enables plot interface in J notebook\n",
        "import numpy as np\n",
        "# init bokeh\n",
        "\n",
        "from bokeh.application import Application\n",
        "from bokeh.application.handlers import FunctionHandler\n",
        "\n",
        "output_notebook()\n",
        "############ END BOILERPLATE ############\n",
        "\n",
        "# Set up data\n",
        "N = 200\n",
        "x = np.linspace(0, 4*np.pi, N)\n",
        "y = np.sin(x)\n",
        "source = ColumnDataSource(data=dict(x=x, y=y))\n",
        "\n",
        "# Set up plot\n",
        "plot = bk_figure(plot_height=400, plot_width=400, title=\"my sine wave\",\n",
        "              tools=\"crosshair,pan,reset,save,wheel_zoom\",\n",
        "              x_range=[0, 4*np.pi], y_range=[-2.5, 2.5])\n",
        "\n",
        "plot.line('x', 'y', source=source, line_width=3, line_alpha=0.6)\n",
        "\n",
        "# Set up widgets\n",
        "text = TextInput(title=\"title\", value='my sine wave')\n",
        "offset = Slider(title=\"offset\", value=0.0, start=-5.0, end=5.0, step=0.1)\n",
        "amplitude = Slider(title=\"amplitude\", value=1.0, start=-5.0, end=5.0, step=0.1)\n",
        "phase = Slider(title=\"phase\", value=0.0, start=0.0, end=2*np.pi)\n",
        "freq = Slider(title=\"frequency\", value=1.0, start=0.1, end=5.1, step=0.1)\n",
        "\n",
        "# Set up callbacks\n",
        "def update_title(attrname, old, new):\n",
        "    plot.title.text = text.value\n",
        "\n",
        "\n",
        "def update_data(attrname, old, new):\n",
        "    # Get the current slider values\n",
        "    a = amplitude.value\n",
        "    b = offset.value\n",
        "    w = phase.value\n",
        "    k = freq.value\n",
        "\n",
        "    # Generate the new curve\n",
        "    x = np.linspace(0, 4*np.pi, N)\n",
        "    y = a*np.sin(k*x + w) + b\n",
        "\n",
        "    source.data = dict(x=x, y=y)\n",
        "    ### I thought I might need a show() here, but it doesn't make a difference if I add one\n",
        "    # show(layout)\n",
        "\n",
        "for w in [offset, amplitude, phase, freq]:\n",
        "    w.on_change('value', update_data)\n",
        "\n",
        "\n",
        "# Set up layouts and add to document\n",
        "inputs = Column(text, offset, amplitude, phase, freq)\n",
        "layout = row(plot,\n",
        "             Column(text, offset, amplitude, phase, freq))\n",
        "\n",
        "\n",
        "def modify_doc(doc):\n",
        "    doc.add_root(row(layout, width=800))\n",
        "    doc.title = \"Sliders\"\n",
        "    text.on_change('value', update_title)\n",
        "\n",
        "\n",
        "handler = FunctionHandler(modify_doc)\n",
        "app = Application(handler)\n",
        "show(app)"
      ],
      "execution_count": 0,
      "outputs": [
        {
          "output_type": "stream",
          "text": [
            "Bokeh show_app is currently unsupported\n"
          ],
          "name": "stdout"
        }
      ]
    },
    {
      "cell_type": "code",
      "metadata": {
        "id": "MxEMUkC7bKjr",
        "colab_type": "code",
        "colab": {}
      },
      "source": [
        ""
      ],
      "execution_count": 0,
      "outputs": []
    }
  ]
}