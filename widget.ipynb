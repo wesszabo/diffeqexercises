{
  "nbformat": 4,
  "nbformat_minor": 0,
  "metadata": {
    "colab": {
      "name": "widget.ipynb",
      "provenance": [],
      "authorship_tag": "ABX9TyONYESYRr6LV+mCd/r+PHIK",
      "include_colab_link": true
    },
    "kernelspec": {
      "name": "python3",
      "display_name": "Python 3"
    },
    "widgets": {
      "application/vnd.jupyter.widget-state+json": {
        "b9d140d3851e44fba142322742659c13": {
          "model_module": "@jupyter-widgets/controls",
          "model_name": "VBoxModel",
          "state": {
            "_view_name": "VBoxView",
            "_dom_classes": [
              "widget-interact"
            ],
            "_model_name": "VBoxModel",
            "_view_module": "@jupyter-widgets/controls",
            "_model_module_version": "1.5.0",
            "_view_count": null,
            "_view_module_version": "1.5.0",
            "box_style": "",
            "layout": "IPY_MODEL_d1e49d1ea70146478b4d4febd94bfb9b",
            "_model_module": "@jupyter-widgets/controls",
            "children": [
              "IPY_MODEL_0778036b2993418e9acd726f400d8537",
              "IPY_MODEL_41be59aa0083419a96b5cffb09d35eae",
              "IPY_MODEL_2b685d708bc343f7acf8563118190232"
            ]
          }
        },
        "d1e49d1ea70146478b4d4febd94bfb9b": {
          "model_module": "@jupyter-widgets/base",
          "model_name": "LayoutModel",
          "state": {
            "_view_name": "LayoutView",
            "grid_template_rows": null,
            "right": null,
            "justify_content": null,
            "_view_module": "@jupyter-widgets/base",
            "overflow": null,
            "_model_module_version": "1.2.0",
            "_view_count": null,
            "flex_flow": null,
            "width": null,
            "min_width": null,
            "border": null,
            "align_items": null,
            "bottom": null,
            "_model_module": "@jupyter-widgets/base",
            "top": null,
            "grid_column": null,
            "overflow_y": null,
            "overflow_x": null,
            "grid_auto_flow": null,
            "grid_area": null,
            "grid_template_columns": null,
            "flex": null,
            "_model_name": "LayoutModel",
            "justify_items": null,
            "grid_row": null,
            "max_height": null,
            "align_content": null,
            "visibility": null,
            "align_self": null,
            "height": null,
            "min_height": null,
            "padding": null,
            "grid_auto_rows": null,
            "grid_gap": null,
            "max_width": null,
            "order": null,
            "_view_module_version": "1.2.0",
            "grid_template_areas": null,
            "object_position": null,
            "object_fit": null,
            "grid_auto_columns": null,
            "margin": null,
            "display": null,
            "left": null
          }
        },
        "0778036b2993418e9acd726f400d8537": {
          "model_module": "@jupyter-widgets/controls",
          "model_name": "FloatSliderModel",
          "state": {
            "_view_name": "FloatSliderView",
            "style": "IPY_MODEL_81027153b7cf4410871b6fd3cfd6bc6c",
            "_dom_classes": [],
            "description": "k",
            "step": 0.1,
            "_model_name": "FloatSliderModel",
            "orientation": "horizontal",
            "max": 2,
            "_view_module": "@jupyter-widgets/controls",
            "_model_module_version": "1.5.0",
            "value": 0.9,
            "_view_count": null,
            "disabled": false,
            "_view_module_version": "1.5.0",
            "min": 0.5,
            "continuous_update": true,
            "readout_format": ".2f",
            "description_tooltip": null,
            "readout": true,
            "_model_module": "@jupyter-widgets/controls",
            "layout": "IPY_MODEL_1bfea88935854e6588f1bdda75884934"
          }
        },
        "41be59aa0083419a96b5cffb09d35eae": {
          "model_module": "@jupyter-widgets/controls",
          "model_name": "FloatSliderModel",
          "state": {
            "_view_name": "FloatSliderView",
            "style": "IPY_MODEL_d9dd3b8736e64611ac8ae518ef35f601",
            "_dom_classes": [],
            "description": "p",
            "step": 0.1,
            "_model_name": "FloatSliderModel",
            "orientation": "horizontal",
            "max": 6.283185307179586,
            "_view_module": "@jupyter-widgets/controls",
            "_model_module_version": "1.5.0",
            "value": 5,
            "_view_count": null,
            "disabled": false,
            "_view_module_version": "1.5.0",
            "min": 0,
            "continuous_update": true,
            "readout_format": ".2f",
            "description_tooltip": null,
            "readout": true,
            "_model_module": "@jupyter-widgets/controls",
            "layout": "IPY_MODEL_037c06a26c6943b7acda7158e32e8618"
          }
        },
        "2b685d708bc343f7acf8563118190232": {
          "model_module": "@jupyter-widgets/output",
          "model_name": "OutputModel",
          "state": {
            "_view_name": "OutputView",
            "msg_id": "",
            "_dom_classes": [],
            "_model_name": "OutputModel",
            "outputs": [
              {
                "output_type": "display_data",
                "metadata": {
                  "tags": []
                },
                "image/png": "iVBORw0KGgoAAAANSUhEUgAAAYIAAAD4CAYAAADhNOGaAAAABHNCSVQICAgIfAhkiAAAAAlwSFlz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\n",
                "text/plain": "<Figure size 432x288 with 1 Axes>"
              }
            ],
            "_view_module": "@jupyter-widgets/output",
            "_model_module_version": "1.0.0",
            "_view_count": null,
            "_view_module_version": "1.0.0",
            "layout": "IPY_MODEL_d7a71358622c48a1949e193af7678f95",
            "_model_module": "@jupyter-widgets/output"
          }
        },
        "81027153b7cf4410871b6fd3cfd6bc6c": {
          "model_module": "@jupyter-widgets/controls",
          "model_name": "SliderStyleModel",
          "state": {
            "_view_name": "StyleView",
            "handle_color": null,
            "_model_name": "SliderStyleModel",
            "description_width": "",
            "_view_module": "@jupyter-widgets/base",
            "_model_module_version": "1.5.0",
            "_view_count": null,
            "_view_module_version": "1.2.0",
            "_model_module": "@jupyter-widgets/controls"
          }
        },
        "1bfea88935854e6588f1bdda75884934": {
          "model_module": "@jupyter-widgets/base",
          "model_name": "LayoutModel",
          "state": {
            "_view_name": "LayoutView",
            "grid_template_rows": null,
            "right": null,
            "justify_content": null,
            "_view_module": "@jupyter-widgets/base",
            "overflow": null,
            "_model_module_version": "1.2.0",
            "_view_count": null,
            "flex_flow": null,
            "width": null,
            "min_width": null,
            "border": null,
            "align_items": null,
            "bottom": null,
            "_model_module": "@jupyter-widgets/base",
            "top": null,
            "grid_column": null,
            "overflow_y": null,
            "overflow_x": null,
            "grid_auto_flow": null,
            "grid_area": null,
            "grid_template_columns": null,
            "flex": null,
            "_model_name": "LayoutModel",
            "justify_items": null,
            "grid_row": null,
            "max_height": null,
            "align_content": null,
            "visibility": null,
            "align_self": null,
            "height": null,
            "min_height": null,
            "padding": null,
            "grid_auto_rows": null,
            "grid_gap": null,
            "max_width": null,
            "order": null,
            "_view_module_version": "1.2.0",
            "grid_template_areas": null,
            "object_position": null,
            "object_fit": null,
            "grid_auto_columns": null,
            "margin": null,
            "display": null,
            "left": null
          }
        },
        "d9dd3b8736e64611ac8ae518ef35f601": {
          "model_module": "@jupyter-widgets/controls",
          "model_name": "SliderStyleModel",
          "state": {
            "_view_name": "StyleView",
            "handle_color": null,
            "_model_name": "SliderStyleModel",
            "description_width": "",
            "_view_module": "@jupyter-widgets/base",
            "_model_module_version": "1.5.0",
            "_view_count": null,
            "_view_module_version": "1.2.0",
            "_model_module": "@jupyter-widgets/controls"
          }
        },
        "037c06a26c6943b7acda7158e32e8618": {
          "model_module": "@jupyter-widgets/base",
          "model_name": "LayoutModel",
          "state": {
            "_view_name": "LayoutView",
            "grid_template_rows": null,
            "right": null,
            "justify_content": null,
            "_view_module": "@jupyter-widgets/base",
            "overflow": null,
            "_model_module_version": "1.2.0",
            "_view_count": null,
            "flex_flow": null,
            "width": null,
            "min_width": null,
            "border": null,
            "align_items": null,
            "bottom": null,
            "_model_module": "@jupyter-widgets/base",
            "top": null,
            "grid_column": null,
            "overflow_y": null,
            "overflow_x": null,
            "grid_auto_flow": null,
            "grid_area": null,
            "grid_template_columns": null,
            "flex": null,
            "_model_name": "LayoutModel",
            "justify_items": null,
            "grid_row": null,
            "max_height": null,
            "align_content": null,
            "visibility": null,
            "align_self": null,
            "height": null,
            "min_height": null,
            "padding": null,
            "grid_auto_rows": null,
            "grid_gap": null,
            "max_width": null,
            "order": null,
            "_view_module_version": "1.2.0",
            "grid_template_areas": null,
            "object_position": null,
            "object_fit": null,
            "grid_auto_columns": null,
            "margin": null,
            "display": null,
            "left": null
          }
        },
        "d7a71358622c48a1949e193af7678f95": {
          "model_module": "@jupyter-widgets/base",
          "model_name": "LayoutModel",
          "state": {
            "_view_name": "LayoutView",
            "grid_template_rows": null,
            "right": null,
            "justify_content": null,
            "_view_module": "@jupyter-widgets/base",
            "overflow": null,
            "_model_module_version": "1.2.0",
            "_view_count": null,
            "flex_flow": null,
            "width": null,
            "min_width": null,
            "border": null,
            "align_items": null,
            "bottom": null,
            "_model_module": "@jupyter-widgets/base",
            "top": null,
            "grid_column": null,
            "overflow_y": null,
            "overflow_x": null,
            "grid_auto_flow": null,
            "grid_area": null,
            "grid_template_columns": null,
            "flex": null,
            "_model_name": "LayoutModel",
            "justify_items": null,
            "grid_row": null,
            "max_height": null,
            "align_content": null,
            "visibility": null,
            "align_self": null,
            "height": null,
            "min_height": null,
            "padding": null,
            "grid_auto_rows": null,
            "grid_gap": null,
            "max_width": null,
            "order": null,
            "_view_module_version": "1.2.0",
            "grid_template_areas": null,
            "object_position": null,
            "object_fit": null,
            "grid_auto_columns": null,
            "margin": null,
            "display": null,
            "left": null
          }
        }
      }
    }
  },
  "cells": [
    {
      "cell_type": "markdown",
      "metadata": {
        "id": "view-in-github",
        "colab_type": "text"
      },
      "source": [
        "<a href=\"https://colab.research.google.com/github/wesszabo/diffeqexercises/blob/master/widget.ipynb\" target=\"_parent\"><img src=\"https://colab.research.google.com/assets/colab-badge.svg\" alt=\"Open In Colab\"/></a>"
      ]
    },
    {
      "cell_type": "code",
      "metadata": {
        "id": "db7shJhv1fH7",
        "colab_type": "code",
        "colab": {}
      },
      "source": [
        "%matplotlib inline\n",
        "import matplotlib.pyplot as plt\n",
        "\n",
        "import numpy as np\n",
        "\n",
        "import ipywidgets as widgets\n",
        "from ipywidgets import interact"
      ],
      "execution_count": 0,
      "outputs": []
    },
    {
      "cell_type": "code",
      "metadata": {
        "id": "XQDReUSg1sf4",
        "colab_type": "code",
        "colab": {
          "base_uri": "https://localhost:8080/",
          "height": 328,
          "referenced_widgets": [
            "b9d140d3851e44fba142322742659c13",
            "d1e49d1ea70146478b4d4febd94bfb9b",
            "0778036b2993418e9acd726f400d8537",
            "41be59aa0083419a96b5cffb09d35eae",
            "2b685d708bc343f7acf8563118190232",
            "81027153b7cf4410871b6fd3cfd6bc6c",
            "1bfea88935854e6588f1bdda75884934",
            "d9dd3b8736e64611ac8ae518ef35f601",
            "037c06a26c6943b7acda7158e32e8618",
            "d7a71358622c48a1949e193af7678f95"
          ]
        },
        "outputId": "a380434f-d589-4952-afeb-33c2f73cf2d8"
      },
      "source": [
        "@interact(k=(0.5, 2), p=(0, 2 * np.pi))\n",
        "def plot_f(k, p):\n",
        "    x = np.linspace(0, 4 * np.pi)\n",
        "    y = np.sin(k*x + p)\n",
        "    plt.plot(x, y)"
      ],
      "execution_count": 2,
      "outputs": [
        {
          "output_type": "display_data",
          "data": {
            "application/vnd.jupyter.widget-view+json": {
              "model_id": "b9d140d3851e44fba142322742659c13",
              "version_minor": 0,
              "version_major": 2
            },
            "text/plain": [
              "interactive(children=(FloatSlider(value=1.25, description='k', max=2.0, min=0.5), FloatSlider(value=3.14159265…"
            ]
          },
          "metadata": {
            "tags": []
          }
        }
      ]
    },
    {
      "cell_type": "code",
      "metadata": {
        "id": "XFyloT4t17jr",
        "colab_type": "code",
        "colab": {}
      },
      "source": [
        ""
      ],
      "execution_count": 0,
      "outputs": []
    }
  ]
}