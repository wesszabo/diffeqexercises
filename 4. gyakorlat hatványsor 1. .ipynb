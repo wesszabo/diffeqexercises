{
 "cells": [
  {
   "cell_type": "markdown",
   "metadata": {
    "slideshow": {
     "slide_type": "slide"
    },
    "toc": true
   },
   "source": [
    "<h1>4. gyakorlat hatványsor 1.<span class=\"tocSkip\"></span></h1>\n",
    "<div class=\"toc\"><ul class=\"toc-item\"></ul></div>"
   ]
  },
  {
   "cell_type": "markdown",
   "metadata": {
    "slideshow": {
     "slide_type": "slide"
    }
   },
   "source": [
    "\\begin{exercise}\n",
    "Legyen\n",
    "\n",
    "\\begin{equation}\\label{eq:origin}\n",
    "y'(x)-2xy(x)=1,\\, y(0)=1.\n",
    "\\end{equation}\n",
    "\n",
    "Számítsuk ki a közelítő polinomot az $x^4$-es tagig. \n",
    "\\end{exercise}"
   ]
  },
  {
   "cell_type": "markdown",
   "metadata": {
    "slideshow": {
     "slide_type": "slide"
    }
   },
   "source": [
    "\\textbf{Solution.} \n",
    "\n",
    "$y'(0)$:\n",
    "A differenciálegyenletbe helyettesítve kapjuk, hogy \n",
    "\n",
    "$$\n",
    "y'(0)=1.\n",
    "$$"
   ]
  },
  {
   "cell_type": "markdown",
   "metadata": {
    "slideshow": {
     "slide_type": "fragment"
    }
   },
   "source": [
    "$y''(0)$:\n",
    "Az egyenlet mindkét oldalát deriválva kapjuk, hogy \n",
    "\n",
    "$$\n",
    "y''(x)-2xy'(x)-2y(x)=0.\n",
    "$$"
   ]
  },
  {
   "cell_type": "markdown",
   "metadata": {
    "slideshow": {
     "slide_type": "fragment"
    }
   },
   "source": [
    "$x=0$-t behelyettesítve és felhasználva hogy $y(0)=1$, kapjuk, hogy\n",
    "\n",
    "$$\n",
    "y''(0)=2.\n",
    "$$"
   ]
  },
  {
   "cell_type": "markdown",
   "metadata": {
    "slideshow": {
     "slide_type": "slide"
    }
   },
   "source": [
    "$y^{(3)}(0)$: Tovább deriválva kapjuk, hogy \n",
    "\n",
    "$$\n",
    "y^{(3)}(x)-2xy''(x)-4y'(x)=0.\n",
    "$$"
   ]
  },
  {
   "cell_type": "markdown",
   "metadata": {
    "slideshow": {
     "slide_type": "fragment"
    }
   },
   "source": [
    "$x=0$-t behelyettesítve és felhasználva hogy $y'(0)=1$, kapjuk, hogy\n",
    "\n",
    "$$\n",
    "y^{(3)}(0)=4.\n",
    "$$"
   ]
  },
  {
   "cell_type": "markdown",
   "metadata": {
    "slideshow": {
     "slide_type": "fragment"
    }
   },
   "source": [
    "$y^{(4)}(0)$: Folytatva a deriválást kapjuk, hogy\n",
    "\n",
    "$$\n",
    "y^{(4)}(x)-2xy^{(3)}(x)-6y''(x)=0.\n",
    "$$"
   ]
  },
  {
   "cell_type": "markdown",
   "metadata": {},
   "source": [
    "$x=0$-t behelyettesítve és felhasználva hogy $y''(0)=2$, kapjuk, hogy\n",
    "\n",
    "$$\n",
    "y^{(4)}(0)=12.\n",
    "$$"
   ]
  },
  {
   "cell_type": "markdown",
   "metadata": {
    "slideshow": {
     "slide_type": "slide"
    }
   },
   "source": [
    "Tehát a közelítő polinom \n",
    "\n",
    "$$\n",
    "y(0)+y'(0)x+\\frac{y''(0)}{2!}x^2+\\frac{y^{(3)}(0)}{3!}x^3+\\frac{y^{(4)}(0)}{4!}x^4\n",
    "$$"
   ]
  },
  {
   "cell_type": "markdown",
   "metadata": {
    "slideshow": {
     "slide_type": "fragment"
    }
   },
   "source": [
    "$=1+x+x^2+\\frac{2}{3}x^3+\\frac{1}{2}x^4$."
   ]
  }
 ],
 "metadata": {
  "celltoolbar": "Slideshow",
  "hide_input": false,
  "kernelspec": {
   "display_name": "Python 3",
   "language": "python",
   "name": "python3"
  },
  "language_info": {
   "codemirror_mode": {
    "name": "ipython",
    "version": 3
   },
   "file_extension": ".py",
   "mimetype": "text/x-python",
   "name": "python",
   "nbconvert_exporter": "python",
   "pygments_lexer": "ipython3",
   "version": "3.7.6"
  },
  "latex_envs": {
   "LaTeX_envs_menu_present": true,
   "autoclose": true,
   "autocomplete": true,
   "bibliofile": "biblio.bib",
   "cite_by": "apalike",
   "current_citInitial": 1,
   "eqLabelWithNumbers": true,
   "eqNumInitial": 1,
   "hotkeys": {
    "equation": "Ctrl-E",
    "itemize": "Ctrl-I"
   },
   "labels_anchors": true,
   "latex_user_defs": true,
   "report_style_numbering": false,
   "user_envs_cfg": true
  },
  "rise": {
   "enable_chalkboard": true
  },
  "toc": {
   "base_numbering": 1,
   "nav_menu": {
    "height": "47px",
    "width": "177px"
   },
   "number_sections": true,
   "sideBar": true,
   "skip_h1_title": false,
   "title_cell": "4. gyakorlat hatványsor 1.",
   "title_sidebar": "4. gyakorlat hatványsor 1.",
   "toc_cell": true,
   "toc_position": {
    "height": "calc(100% - 180px)",
    "left": "10px",
    "top": "150px",
    "width": "165px"
   },
   "toc_section_display": true,
   "toc_window_display": false
  }
 },
 "nbformat": 4,
 "nbformat_minor": 4
}
