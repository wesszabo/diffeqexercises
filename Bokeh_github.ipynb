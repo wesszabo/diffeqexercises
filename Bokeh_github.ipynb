{
  "nbformat": 4,
  "nbformat_minor": 0,
  "metadata": {
    "colab": {
      "name": "Bokeh github.ipynb",
      "provenance": [],
      "authorship_tag": "ABX9TyOOiRGvkNYpwZv4yX4yvwxf",
      "include_colab_link": true
    },
    "kernelspec": {
      "name": "python3",
      "display_name": "Python 3"
    }
  },
  "cells": [
    {
      "cell_type": "markdown",
      "metadata": {
        "id": "view-in-github",
        "colab_type": "text"
      },
      "source": [
        "<a href=\"https://colab.research.google.com/github/wesszabo/diffeqexercises/blob/master/Bokeh_github.ipynb\" target=\"_parent\"><img src=\"https://colab.research.google.com/assets/colab-badge.svg\" alt=\"Open In Colab\"/></a>"
      ]
    },
    {
      "cell_type": "code",
      "metadata": {
        "id": "V-6IDqFRZTWI",
        "colab_type": "code",
        "colab": {}
      },
      "source": [
        "''' Present an interactive function explorer with slider widgets.\n",
        "Scrub the sliders to change the properties of the ``sin`` curve, or\n",
        "type into the title text box to update the title of the plot.\n",
        "Use the ``bokeh serve`` command to run the example by executing:\n",
        "    bokeh serve sliders.py\n",
        "at your command prompt. Then navigate to the URL\n",
        "    http://localhost:5006/sliders\n",
        "in your browser.\n",
        "'''\n",
        "import numpy as np\n",
        "\n",
        "from bokeh.io import curdoc\n",
        "from bokeh.layouts import column, row\n",
        "from bokeh.models import ColumnDataSource, Slider, TextInput\n",
        "from bokeh.plotting import figure\n",
        "\n",
        "# Set up data\n",
        "N = 200\n",
        "x = np.linspace(0, 4*np.pi, N)\n",
        "y = np.sin(x)\n",
        "source = ColumnDataSource(data=dict(x=x, y=y))\n",
        "\n",
        "\n",
        "# Set up plot\n",
        "plot = figure(plot_height=400, plot_width=400, title=\"my sine wave\",\n",
        "              tools=\"crosshair,pan,reset,save,wheel_zoom\",\n",
        "              x_range=[0, 4*np.pi], y_range=[-2.5, 2.5])\n",
        "\n",
        "plot.line('x', 'y', source=source, line_width=3, line_alpha=0.6)\n",
        "\n",
        "\n",
        "# Set up widgets\n",
        "text = TextInput(title=\"title\", value='my sine wave')\n",
        "offset = Slider(title=\"offset\", value=0.0, start=-5.0, end=5.0, step=0.1)\n",
        "amplitude = Slider(title=\"amplitude\", value=1.0, start=-5.0, end=5.0, step=0.1)\n",
        "phase = Slider(title=\"phase\", value=0.0, start=0.0, end=2*np.pi)\n",
        "freq = Slider(title=\"frequency\", value=1.0, start=0.1, end=5.1, step=0.1)\n",
        "\n",
        "\n",
        "# Set up callbacks\n",
        "def update_title(attrname, old, new):\n",
        "    plot.title.text = text.value\n",
        "\n",
        "text.on_change('value', update_title)\n",
        "\n",
        "def update_data(attrname, old, new):\n",
        "\n",
        "    # Get the current slider values\n",
        "    a = amplitude.value\n",
        "    b = offset.value\n",
        "    w = phase.value\n",
        "    k = freq.value\n",
        "\n",
        "    # Generate the new curve\n",
        "    x = np.linspace(0, 4*np.pi, N)\n",
        "    y = a*np.sin(k*x + w) + b\n",
        "\n",
        "    source.data = dict(x=x, y=y)\n",
        "\n",
        "for w in [offset, amplitude, phase, freq]:\n",
        "    w.on_change('value', update_data)\n",
        "\n",
        "\n",
        "# Set up layouts and add to document\n",
        "inputs = column(text, offset, amplitude, phase, freq)\n",
        "\n",
        "curdoc().add_root(row(inputs, plot, width=800))\n",
        "curdoc().title = \"Sliders\""
      ],
      "execution_count": 0,
      "outputs": []
    },
    {
      "cell_type": "code",
      "metadata": {
        "id": "NLe3-fkxZmcP",
        "colab_type": "code",
        "colab": {}
      },
      "source": [
        ""
      ],
      "execution_count": 0,
      "outputs": []
    }
  ]
}