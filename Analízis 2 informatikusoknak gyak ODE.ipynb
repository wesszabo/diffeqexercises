{
 "cells": [
  {
   "cell_type": "markdown",
   "metadata": {
    "hide_input": false,
    "toc": "true"
   },
   "source": [
    "# Table of Contents\n",
    " <p><div class=\"lev1 toc-item\"><a href=\"#Integrálási-technikák\" data-toc-modified-id=\"Integrálási-technikák-1\"><span class=\"toc-item-num\">1&nbsp;&nbsp;</span>Integrálási technikák</a></div><div class=\"lev2 toc-item\"><a href=\"#Alapintegrálok\" data-toc-modified-id=\"Alapintegrálok-11\"><span class=\"toc-item-num\">1.1&nbsp;&nbsp;</span>Alapintegrálok</a></div><div class=\"lev2 toc-item\"><a href=\"#Parciális-integrálás\" data-toc-modified-id=\"Parciális-integrálás-12\"><span class=\"toc-item-num\">1.2&nbsp;&nbsp;</span>Parciális integrálás</a></div><div class=\"lev2 toc-item\"><a href=\"#Helyettesítéses-integrálás\" data-toc-modified-id=\"Helyettesítéses-integrálás-13\"><span class=\"toc-item-num\">1.3&nbsp;&nbsp;</span>Helyettesítéses integrálás</a></div><div class=\"lev2 toc-item\"><a href=\"#Parciális-törtekre-bontás\" data-toc-modified-id=\"Parciális-törtekre-bontás-14\"><span class=\"toc-item-num\">1.4&nbsp;&nbsp;</span>Parciális törtekre bontás</a></div><div class=\"lev1 toc-item\"><a href=\"#Közönséges-differenciálegyenletek\" data-toc-modified-id=\"Közönséges-differenciálegyenletek-2\"><span class=\"toc-item-num\">2&nbsp;&nbsp;</span>Közönséges differenciálegyenletek</a></div><div class=\"lev2 toc-item\"><a href=\"#Szeparábilis-differenciálegyenletek\" data-toc-modified-id=\"Szeparábilis-differenciálegyenletek-21\"><span class=\"toc-item-num\">2.1&nbsp;&nbsp;</span>Szeparábilis differenciálegyenletek</a></div><div class=\"lev2 toc-item\"><a href=\"#Szeparábilisra-visszavezethető-egyenletek\" data-toc-modified-id=\"Szeparábilisra-visszavezethető-egyenletek-22\"><span class=\"toc-item-num\">2.2&nbsp;&nbsp;</span>Szeparábilisra visszavezethető egyenletek</a></div><div class=\"lev2 toc-item\"><a href=\"#Elsőrendű-egyenletek\" data-toc-modified-id=\"Elsőrendű-egyenletek-23\"><span class=\"toc-item-num\">2.3&nbsp;&nbsp;</span>Elsőrendű egyenletek</a></div><div class=\"lev2 toc-item\"><a href=\"#Másodrendű-állandó-együtthatós-egyenletek\" data-toc-modified-id=\"Másodrendű-állandó-együtthatós-egyenletek-24\"><span class=\"toc-item-num\">2.4&nbsp;&nbsp;</span>Másodrendű állandó együtthatós egyenletek</a></div>"
   ]
  },
  {
   "cell_type": "markdown",
   "metadata": {},
   "source": [
    "<p style=\"text-align: center; font-family: 'Times New Roman'; font-size:3em; font-style:bold\">\n",
    "Analízis 2 informatikusoknak</p><br>\n",
    "<p style=\"text-align: center; font-family: 'Times New Roman'; font-size:1.5em; font-style:bold\">(gyakorlat)</p><br>"
   ]
  },
  {
   "cell_type": "markdown",
   "metadata": {
    "hide_input": true
   },
   "source": [
    "# Integrálási technikák"
   ]
  },
  {
   "cell_type": "code",
   "execution_count": 7,
   "metadata": {
    "collapsed": true,
    "scrolled": true
   },
   "outputs": [],
   "source": [
    "from sympy import *"
   ]
  },
  {
   "cell_type": "code",
   "execution_count": 8,
   "metadata": {
    "collapsed": true
   },
   "outputs": [],
   "source": [
    "from IPython.display import HTML"
   ]
  },
  {
   "cell_type": "code",
   "execution_count": 9,
   "metadata": {
    "collapsed": true,
    "scrolled": true
   },
   "outputs": [],
   "source": [
    "init_printing(use_unicode=True) # nice output"
   ]
  },
  {
   "cell_type": "code",
   "execution_count": 10,
   "metadata": {
    "collapsed": true,
    "scrolled": true
   },
   "outputs": [],
   "source": [
    "x = symbols('x')"
   ]
  },
  {
   "cell_type": "code",
   "execution_count": 11,
   "metadata": {
    "collapsed": true,
    "scrolled": true
   },
   "outputs": [],
   "source": [
    "a = symbols('a') # parameters"
   ]
  },
  {
   "cell_type": "markdown",
   "metadata": {},
   "source": [
    "## Alapintegrálok"
   ]
  },
  {
   "cell_type": "markdown",
   "metadata": {
    "hide_input": true,
    "solution2": "hidden",
    "solution2_first": true
   },
   "source": [
    "<div class=\"exercises\">\n",
    "1.) $\\int \\frac{1}{x\\log (x)}\\,dx=?$\n",
    "</div>   "
   ]
  },
  {
   "cell_type": "code",
   "execution_count": 23,
   "metadata": {
    "hide_input": true,
    "solution2": "hidden"
   },
   "outputs": [
    {
     "data": {
      "image/png": "[encoded data removed]",
      "text/latex": [
       "$$\\log{\\left (\\log{\\left (x \\right )} \\right )}$$"
      ],
      "text/plain": [
       "log(log(x))"
      ]
     },
     "execution_count": 23,
     "metadata": {},
     "output_type": "execute_result"
    }
   ],
   "source": [
    "integrate(1/(x*ln(x)), x)"
   ]
  },
  {
   "cell_type": "markdown",
   "metadata": {
    "collapsed": true,
    "solution2": "hidden",
    "solution2_first": true
   },
   "source": [
    "<div class=\"exercises\">\n",
    "2.) $\\int \\tan (x)\\,dx=? $\n",
    "</div>"
   ]
  },
  {
   "cell_type": "code",
   "execution_count": 9,
   "metadata": {
    "hide_input": true,
    "solution2": "hidden"
   },
   "outputs": [
    {
     "data": {
      "image/png": "[encoded data removed]",
      "text/latex": [
       "$$- \\log{\\left (\\cos{\\left (x \\right )} \\right )} - \\frac{i \\pi}{2}$$"
      ],
      "text/plain": [
       "               ⅈ⋅π\n",
       "-log(cos(x)) - ───\n",
       "                2 "
      ]
     },
     "execution_count": 9,
     "metadata": {},
     "output_type": "execute_result"
    }
   ],
   "source": [
    "expand_log(simplify(integrate(tan(x), x)), force=True)"
   ]
  },
  {
   "cell_type": "markdown",
   "metadata": {
    "scrolled": true,
    "solution2": "hidden",
    "solution2_first": true
   },
   "source": [
    "<div class=\"exercises\">\n",
    "3.) $\\int \\sin (x)\\cos(x)^2\\,dx=? $\n",
    "</div>"
   ]
  },
  {
   "cell_type": "code",
   "execution_count": 11,
   "metadata": {
    "hide_input": true,
    "scrolled": true,
    "solution2": "hidden"
   },
   "outputs": [
    {
     "data": {
      "image/png": "[encoded data removed]",
      "text/latex": [
       "$$- \\frac{1}{3} \\cos^{3}{\\left (x \\right )}$$"
      ],
      "text/plain": [
       "    3    \n",
       "-cos (x) \n",
       "─────────\n",
       "    3    "
      ]
     },
     "execution_count": 11,
     "metadata": {},
     "output_type": "execute_result"
    }
   ],
   "source": [
    "integrate(sin(x)*cos(x)**2, x)"
   ]
  },
  {
   "cell_type": "markdown",
   "metadata": {},
   "source": [
    "## Parciális integrálás"
   ]
  },
  {
   "cell_type": "markdown",
   "metadata": {
    "collapsed": true,
    "scrolled": true,
    "solution2": "hidden",
    "solution2_first": true
   },
   "source": [
    "<div class=\"exercises\">\n",
    "1.) $\\int x\\sin(x)\\,dx=? $\n",
    "</div>"
   ]
  },
  {
   "cell_type": "code",
   "execution_count": 12,
   "metadata": {
    "hide_input": true,
    "scrolled": true,
    "solution2": "hidden"
   },
   "outputs": [
    {
     "data": {
      "image/png": "[encoded data removed]",
      "text/latex": [
       "$$- x \\cos{\\left (x \\right )} + \\sin{\\left (x \\right )}$$"
      ],
      "text/plain": [
       "-x⋅cos(x) + sin(x)"
      ]
     },
     "execution_count": 12,
     "metadata": {},
     "output_type": "execute_result"
    }
   ],
   "source": [
    "integrate(x*sin(x), x)"
   ]
  },
  {
   "cell_type": "markdown",
   "metadata": {
    "collapsed": true,
    "scrolled": true,
    "solution2": "hidden",
    "solution2_first": true
   },
   "source": [
    "<div class=\"exercises\">\n",
    "2.) $\\int e^{x} \\sin (x)\\,dx=? $\n",
    "</div>"
   ]
  },
  {
   "cell_type": "code",
   "execution_count": 24,
   "metadata": {
    "hide_input": true,
    "scrolled": true,
    "solution2": "hidden"
   },
   "outputs": [
    {
     "data": {
      "image/png": "[encoded data removed]",
      "text/latex": [
       "$$\\frac{e^{x}}{2} \\sin{\\left (x \\right )} - \\frac{e^{x}}{2} \\cos{\\left (x \\right )}$$"
      ],
      "text/plain": [
       " x           x       \n",
       "ℯ ⋅sin(x)   ℯ ⋅cos(x)\n",
       "───────── - ─────────\n",
       "    2           2    "
      ]
     },
     "execution_count": 24,
     "metadata": {},
     "output_type": "execute_result"
    }
   ],
   "source": [
    "integrate(exp(x)*sin(x), x)"
   ]
  },
  {
   "cell_type": "markdown",
   "metadata": {
    "collapsed": true,
    "scrolled": true,
    "solution2": "hidden",
    "solution2_first": true
   },
   "source": [
    "<div class=\"exercises\">\n",
    "3.) $\\int x e^{x}\\,dx=? $\n",
    "</div>"
   ]
  },
  {
   "cell_type": "code",
   "execution_count": 13,
   "metadata": {
    "hide_input": true,
    "scrolled": true,
    "solution2": "hidden"
   },
   "outputs": [
    {
     "data": {
      "image/png": "[encoded data removed]",
      "text/latex": [
       "$$\\left(x - 1\\right) e^{x}$$"
      ],
      "text/plain": [
       "         x\n",
       "(x - 1)⋅ℯ "
      ]
     },
     "execution_count": 13,
     "metadata": {},
     "output_type": "execute_result"
    }
   ],
   "source": [
    "integrate(x*exp(x), x)"
   ]
  },
  {
   "cell_type": "markdown",
   "metadata": {
    "collapsed": true,
    "scrolled": true,
    "solution2": "hidden",
    "solution2_first": true
   },
   "source": [
    "<div class=\"exercises\">\n",
    "4.) $\\int \\log (x)\\,dx=? $\n",
    "</div>"
   ]
  },
  {
   "cell_type": "code",
   "execution_count": 14,
   "metadata": {
    "hide_input": true,
    "scrolled": true,
    "solution2": "hidden"
   },
   "outputs": [
    {
     "data": {
      "image/png": "[encoded data removed]",
      "text/latex": [
       "$$x \\log{\\left (x \\right )} - x$$"
      ],
      "text/plain": [
       "x⋅log(x) - x"
      ]
     },
     "execution_count": 14,
     "metadata": {},
     "output_type": "execute_result"
    }
   ],
   "source": [
    "integrate(ln(x), x)"
   ]
  },
  {
   "cell_type": "markdown",
   "metadata": {
    "solution2": "hidden",
    "solution2_first": true
   },
   "source": [
    "<div class=\"exercises\">\n",
    "5.) $\\int \\arctan (x)\\,dx=? $\n",
    "</div>"
   ]
  },
  {
   "cell_type": "code",
   "execution_count": 16,
   "metadata": {
    "hide_input": true,
    "solution2": "hidden"
   },
   "outputs": [
    {
     "data": {
      "image/png": "[encoded data removed]",
      "text/latex": [
       "$$x \\operatorname{atan}{\\left (x \\right )} - \\frac{1}{2} \\log{\\left (x^{2} + 1 \\right )}$$"
      ],
      "text/plain": [
       "               ⎛ 2    ⎞\n",
       "            log⎝x  + 1⎠\n",
       "x⋅atan(x) - ───────────\n",
       "                 2     "
      ]
     },
     "execution_count": 16,
     "metadata": {},
     "output_type": "execute_result"
    }
   ],
   "source": [
    "integrate(atan(x), x)"
   ]
  },
  {
   "cell_type": "markdown",
   "metadata": {},
   "source": [
    "## Helyettesítéses integrálás"
   ]
  },
  {
   "cell_type": "markdown",
   "metadata": {
    "solution2": "hidden",
    "solution2_first": true
   },
   "source": [
    "<div class=\"exercises\">\n",
    "1.) $\\int \\sqrt{1-x^2}\\,dx=? $\n",
    "</div>"
   ]
  },
  {
   "cell_type": "code",
   "execution_count": 17,
   "metadata": {
    "hide_input": true,
    "solution2": "hidden"
   },
   "outputs": [
    {
     "data": {
      "image/png": "[encoded data removed]",
      "text/latex": [
       "$$\\frac{x}{2} \\sqrt{- x^{2} + 1} + \\frac{1}{2} \\operatorname{asin}{\\left (x \\right )}$$"
      ],
      "text/plain": [
       "     __________          \n",
       "    ╱    2               \n",
       "x⋅╲╱  - x  + 1    asin(x)\n",
       "─────────────── + ───────\n",
       "       2             2   "
      ]
     },
     "execution_count": 17,
     "metadata": {},
     "output_type": "execute_result"
    }
   ],
   "source": [
    "integrate(sqrt(1-x**2), x)"
   ]
  },
  {
   "cell_type": "markdown",
   "metadata": {
    "solution2": "hidden",
    "solution2_first": true
   },
   "source": [
    "<div class=\"exercises\">\n",
    "2.) $\\int \\frac{x}{\\sqrt{2+5x}}\\,dx=? $\n",
    "</div>"
   ]
  },
  {
   "cell_type": "code",
   "execution_count": null,
   "metadata": {
    "collapsed": true,
    "hide_input": true,
    "solution2": "hidden"
   },
   "outputs": [],
   "source": [
    "# t=sqrt(2+5*x)"
   ]
  },
  {
   "cell_type": "markdown",
   "metadata": {
    "solution2": "hidden"
   },
   "source": [
    "$\\frac{2}{25}\\left( \\frac{\\sqrt{(2+5x)^3}}{3}-2\\sqrt{2+5x}\\right)$"
   ]
  },
  {
   "cell_type": "markdown",
   "metadata": {
    "solution2": "hidden",
    "solution2_first": true
   },
   "source": [
    "<div class=\"exercises\">\n",
    "3.) $\\int 3e^{\\sqrt{x}}\\,dx=? $\n",
    "</div>"
   ]
  },
  {
   "cell_type": "code",
   "execution_count": 21,
   "metadata": {
    "hide_input": true,
    "solution2": "hidden"
   },
   "outputs": [
    {
     "data": {
      "image/png": "[encoded data removed]",
      "text/latex": [
       "$$6 \\sqrt{x} e^{\\sqrt{x}} - 6 e^{\\sqrt{x}}$$"
      ],
      "text/plain": [
       "      √x      √x\n",
       "6⋅√x⋅ℯ   - 6⋅ℯ  "
      ]
     },
     "execution_count": 21,
     "metadata": {},
     "output_type": "execute_result"
    }
   ],
   "source": [
    "integrate(3*exp(sqrt(x)), x)"
   ]
  },
  {
   "cell_type": "markdown",
   "metadata": {},
   "source": [
    "## Parciális törtekre bontás"
   ]
  },
  {
   "cell_type": "markdown",
   "metadata": {
    "solution2": "hidden",
    "solution2_first": true
   },
   "source": [
    "<div class=\"exercises\">\n",
    "1.) $\\int \\frac{7x+10}{x^2-5x+6} \\,dx=? $\n",
    "</div>"
   ]
  },
  {
   "cell_type": "code",
   "execution_count": 23,
   "metadata": {
    "hide_input": true,
    "solution2": "hidden"
   },
   "outputs": [
    {
     "data": {
      "image/png": "[encoded data removed]",
      "text/latex": [
       "$$- \\frac{24}{x - 2} + \\frac{31}{x - 3}$$"
      ],
      "text/plain": [
       "    24      31 \n",
       "- ───── + ─────\n",
       "  x - 2   x - 3"
      ]
     },
     "execution_count": 23,
     "metadata": {},
     "output_type": "execute_result"
    }
   ],
   "source": [
    "apart((7*x+10)/(x**2-5*x+6))"
   ]
  },
  {
   "cell_type": "code",
   "execution_count": 24,
   "metadata": {
    "hide_input": true,
    "solution2": "hidden"
   },
   "outputs": [
    {
     "data": {
      "image/png": "[encoded data removed]",
      "text/latex": [
       "$$31 \\log{\\left (x - 3 \\right )} - 24 \\log{\\left (x - 2 \\right )}$$"
      ],
      "text/plain": [
       "31⋅log(x - 3) - 24⋅log(x - 2)"
      ]
     },
     "execution_count": 24,
     "metadata": {},
     "output_type": "execute_result"
    }
   ],
   "source": [
    "integrate((7*x+10)/(x**2-5*x+6), x)"
   ]
  },
  {
   "cell_type": "markdown",
   "metadata": {
    "solution2": "hidden",
    "solution2_first": true
   },
   "source": [
    "<div class=\"exercises\">\n",
    "2.) $\\int \\frac{1-3x}{x^2-2x+1} \\,dx=? $\n",
    "</div>"
   ]
  },
  {
   "cell_type": "code",
   "execution_count": 7,
   "metadata": {
    "hide_input": true,
    "solution2": "hidden"
   },
   "outputs": [
    {
     "data": {
      "image/png": "[encoded data removed]",
      "text/latex": [
       "$$- \\frac{3}{x - 1} - \\frac{2}{\\left(x - 1\\right)^{2}}$$"
      ],
      "text/plain": [
       "    3        2    \n",
       "- ───── - ────────\n",
       "  x - 1          2\n",
       "          (x - 1) "
      ]
     },
     "execution_count": 7,
     "metadata": {},
     "output_type": "execute_result"
    }
   ],
   "source": [
    "apart((1-3*x)/(x**2-2*x+1))"
   ]
  },
  {
   "cell_type": "code",
   "execution_count": 25,
   "metadata": {
    "hide_input": true,
    "solution2": "hidden"
   },
   "outputs": [
    {
     "data": {
      "image/png": "[encoded data removed]",
      "text/latex": [
       "$$- 3 \\log{\\left (x - 1 \\right )} + \\frac{2}{x - 1}$$"
      ],
      "text/plain": [
       "                  2  \n",
       "-3⋅log(x - 1) + ─────\n",
       "                x - 1"
      ]
     },
     "execution_count": 25,
     "metadata": {},
     "output_type": "execute_result"
    }
   ],
   "source": [
    "integrate((1-3*x)/(x**2-2*x+1), x)"
   ]
  },
  {
   "cell_type": "markdown",
   "metadata": {
    "solution2": "hidden",
    "solution2_first": true
   },
   "source": [
    "<div class=\"exercises\">\n",
    "3.) $\\int \\frac{x+2}{x^4-1} \\,dx=? $\n",
    "</div>"
   ]
  },
  {
   "cell_type": "code",
   "execution_count": 30,
   "metadata": {
    "hide_input": true,
    "scrolled": false,
    "solution2": "hidden"
   },
   "outputs": [
    {
     "data": {
      "image/png": "[encoded data removed]",
      "text/latex": [
       "$$- \\frac{x + 2}{2 x^{2} + 2} - \\frac{1}{4 x + 4} + \\frac{3}{4 x - 4}$$"
      ],
      "text/plain": [
       "    x + 2          1           3    \n",
       "- ────────── - ───────── + ─────────\n",
       "    ⎛ 2    ⎞   4⋅(x + 1)   4⋅(x - 1)\n",
       "  2⋅⎝x  + 1⎠                        "
      ]
     },
     "execution_count": 30,
     "metadata": {},
     "output_type": "execute_result"
    }
   ],
   "source": [
    "apart((x+2)/(x**4-1))"
   ]
  },
  {
   "cell_type": "code",
   "execution_count": 31,
   "metadata": {
    "hide_input": true,
    "scrolled": false,
    "solution2": "hidden"
   },
   "outputs": [
    {
     "data": {
      "image/png": "[encoded data removed]",
      "text/latex": [
       "$$\\frac{3}{4} \\log{\\left (x - 1 \\right )} - \\frac{1}{4} \\log{\\left (x + 1 \\right )} - \\frac{1}{4} \\log{\\left (x^{2} + 1 \\right )} - \\operatorname{atan}{\\left (x \\right )}$$"
      ],
      "text/plain": [
       "                               ⎛ 2    ⎞          \n",
       "3⋅log(x - 1)   log(x + 1)   log⎝x  + 1⎠          \n",
       "──────────── - ────────── - ─────────── - atan(x)\n",
       "     4             4             4               "
      ]
     },
     "execution_count": 31,
     "metadata": {},
     "output_type": "execute_result"
    }
   ],
   "source": [
    "integrate((x+2)/(x**4-1), x)"
   ]
  },
  {
   "cell_type": "markdown",
   "metadata": {},
   "source": [
    "# Közönséges differenciálegyenletek"
   ]
  },
  {
   "cell_type": "code",
   "execution_count": 7,
   "metadata": {
    "collapsed": true
   },
   "outputs": [],
   "source": [
    "y = Function(\"y\")(x)\n",
    "dy = Derivative(y, x)\n",
    "ddy = Derivative(y, x, x)"
   ]
  },
  {
   "cell_type": "markdown",
   "metadata": {},
   "source": [
    "## Szeparábilis differenciálegyenletek"
   ]
  },
  {
   "cell_type": "markdown",
   "metadata": {
    "collapsed": true,
    "scrolled": true,
    "solution2": "hidden",
    "solution2_first": true
   },
   "source": [
    "<div class=\"exercises\">\n",
    "1.) $y'= -\\frac{x}{y}.$\n",
    "</div>"
   ]
  },
  {
   "cell_type": "code",
   "execution_count": 21,
   "metadata": {
    "hide_input": true,
    "solution2": "hidden"
   },
   "outputs": [
    {
     "data": {
      "image/png": "[encoded data removed]",
      "text/latex": [
       "$$\\left [ y{\\left (x \\right )} = - \\sqrt{C_{1} - x^{2}}, \\quad y{\\left (x \\right )} = \\sqrt{C_{1} - x^{2}}\\right ]$$"
      ],
      "text/plain": [
       "⎡           _________            _________⎤\n",
       "⎢          ╱       2            ╱       2 ⎥\n",
       "⎣y(x) = -╲╱  C₁ - x  , y(x) = ╲╱  C₁ - x  ⎦"
      ]
     },
     "execution_count": 21,
     "metadata": {},
     "output_type": "execute_result"
    }
   ],
   "source": [
    "dsolve(Eq(dy, -x/y), y)"
   ]
  },
  {
   "cell_type": "markdown",
   "metadata": {
    "collapsed": true,
    "scrolled": true,
    "solution2": "hidden",
    "solution2_first": true
   },
   "source": [
    "<div class=\"exercises\">\n",
    "2.) $y' = y(1-y)\\frac{1}{x}.$\n",
    "</div>"
   ]
  },
  {
   "cell_type": "code",
   "execution_count": 22,
   "metadata": {
    "hide_input": true,
    "scrolled": true,
    "solution2": "hidden"
   },
   "outputs": [
    {
     "data": {
      "image/png": "[encoded data removed]",
      "text/latex": [
       "$$y{\\left (x \\right )} = - \\frac{1}{C_{1} x - 1}$$"
      ],
      "text/plain": [
       "         -1    \n",
       "y(x) = ────────\n",
       "       C₁⋅x - 1"
      ]
     },
     "execution_count": 22,
     "metadata": {},
     "output_type": "execute_result"
    }
   ],
   "source": [
    "dsolve(Eq(dy, y*(y-1)/x), y)"
   ]
  },
  {
   "cell_type": "markdown",
   "metadata": {
    "collapsed": true,
    "scrolled": true,
    "solution2": "hidden",
    "solution2_first": true
   },
   "source": [
    "<div class=\"exercises\">\n",
    "3.) $y'=\\frac{y^2+4y+9}{(x-1)(x+5)}.$\n",
    "</div>"
   ]
  },
  {
   "cell_type": "code",
   "execution_count": 50,
   "metadata": {
    "hide_input": true,
    "scrolled": true,
    "solution2": "hidden"
   },
   "outputs": [
    {
     "data": {
      "image/png": "[encoded data removed]",
      "text/latex": [
       "$$y{\\left (x \\right )} = \\sqrt{5} \\tan{\\left (C_{1} + \\frac{\\sqrt{5}}{6} \\log{\\left (x - 1 \\right )} - \\frac{\\sqrt{5}}{6} \\log{\\left (x + 5 \\right )} \\right )} - 2$$"
      ],
      "text/plain": [
       "             ⎛     √5⋅log(x - 1)   √5⋅log(x + 5)⎞    \n",
       "y(x) = √5⋅tan⎜C₁ + ───────────── - ─────────────⎟ - 2\n",
       "             ⎝           6               6      ⎠    "
      ]
     },
     "execution_count": 50,
     "metadata": {},
     "output_type": "execute_result"
    }
   ],
   "source": [
    "dsolve(Eq(dy, (y**2+4*y+9)/((x-1)*(x+5))), y)"
   ]
  },
  {
   "cell_type": "markdown",
   "metadata": {
    "collapsed": true,
    "scrolled": true,
    "solution2": "hidden",
    "solution2_first": true
   },
   "source": [
    "<div class=\"exercises\">\n",
    "4.) $y'=\\frac{2y^2+3}{y}2xe^{-4x^2}.$\n",
    "</div>"
   ]
  },
  {
   "cell_type": "code",
   "execution_count": 52,
   "metadata": {
    "hide_input": true,
    "scrolled": false,
    "solution2": "hidden"
   },
   "outputs": [
    {
     "data": {
      "image/png": "[encoded data removed]",
      "text/latex": [
       "$$\\left [ y{\\left (x \\right )} = - \\frac{\\sqrt{2}}{2} \\sqrt{C_{1} e^{- e^{- 4 x^{2}}} - 3}, \\quad y{\\left (x \\right )} = \\frac{\\sqrt{2}}{2} \\sqrt{C_{1} e^{- e^{- 4 x^{2}}} - 3}\\right ]$$"
      ],
      "text/plain": [
       "⎡                _________________                  _________________⎤\n",
       "⎢               ╱           2                      ╱           2     ⎥\n",
       "⎢              ╱        -4⋅x                      ╱        -4⋅x      ⎥\n",
       "⎢             ╱       -ℯ                         ╱       -ℯ          ⎥\n",
       "⎢       -√2⋅╲╱    C₁⋅ℯ        - 3           √2⋅╲╱    C₁⋅ℯ        - 3 ⎥\n",
       "⎢y(x) = ───────────────────────────, y(x) = ─────────────────────────⎥\n",
       "⎣                    2                                  2            ⎦"
      ]
     },
     "execution_count": 52,
     "metadata": {},
     "output_type": "execute_result"
    }
   ],
   "source": [
    "dsolve(Eq(dy, (2*y**2+3)/y*2*x*exp(-4*x**2)), y)"
   ]
  },
  {
   "cell_type": "markdown",
   "metadata": {
    "collapsed": true,
    "scrolled": true,
    "solution2": "hidden",
    "solution2_first": true
   },
   "source": [
    "<div class=\"exercises\">\n",
    "5.) $y'=\\frac{y^2+3}{y^2+1}2x\\arctan(2x).$\n",
    "</div>"
   ]
  },
  {
   "cell_type": "code",
   "execution_count": 53,
   "metadata": {
    "hide_input": true,
    "scrolled": true,
    "solution2": "hidden"
   },
   "outputs": [
    {
     "data": {
      "image/png": "[encoded data removed]",
      "text/latex": [
       "$$- x^{2} \\operatorname{atan}{\\left (2 x \\right )} + \\frac{x}{2} + y{\\left (x \\right )} - \\frac{1}{4} \\operatorname{atan}{\\left (2 x \\right )} - \\frac{2 \\sqrt{3}}{3} \\operatorname{atan}{\\left (\\frac{\\sqrt{3}}{3} y{\\left (x \\right )} \\right )} = C_{1}$$"
      ],
      "text/plain": [
       "                                                 ⎛√3⋅y(x)⎞     \n",
       "                                        2⋅√3⋅atan⎜───────⎟     \n",
       "   2             x          atan(2⋅x)            ⎝   3   ⎠     \n",
       "- x ⋅atan(2⋅x) + ─ + y(x) - ───────── - ────────────────── = C₁\n",
       "                 2              4               3              "
      ]
     },
     "execution_count": 53,
     "metadata": {},
     "output_type": "execute_result"
    }
   ],
   "source": [
    "dsolve(Eq(dy, (y**2+3)/(y**2+1)*2*x*atan(2*x)), y)"
   ]
  },
  {
   "cell_type": "markdown",
   "metadata": {
    "collapsed": true,
    "scrolled": true,
    "solution2": "hidden",
    "solution2_first": true
   },
   "source": [
    "<div class=\"exercises\">\n",
    "6.) $y(9+4x^2)y'=1.$\n",
    "</div>"
   ]
  },
  {
   "cell_type": "code",
   "execution_count": 54,
   "metadata": {
    "hide_input": true,
    "scrolled": true,
    "solution2": "hidden"
   },
   "outputs": [
    {
     "data": {
      "image/png": "[encoded data removed]",
      "text/latex": [
       "$$\\left [ y{\\left (x \\right )} = - \\frac{1}{3} \\sqrt{C_{1} + 3 \\operatorname{atan}{\\left (\\frac{2 x}{3} \\right )}}, \\quad y{\\left (x \\right )} = \\frac{1}{3} \\sqrt{C_{1} + 3 \\operatorname{atan}{\\left (\\frac{2 x}{3} \\right )}}\\right ]$$"
      ],
      "text/plain": [
       "⎡            __________________              __________________⎤\n",
       "⎢           ╱            ⎛2⋅x⎞              ╱            ⎛2⋅x⎞ ⎥\n",
       "⎢       -  ╱  C₁ + 3⋅atan⎜───⎟             ╱  C₁ + 3⋅atan⎜───⎟ ⎥\n",
       "⎢        ╲╱              ⎝ 3 ⎠           ╲╱              ⎝ 3 ⎠ ⎥\n",
       "⎢y(x) = ────────────────────────, y(x) = ──────────────────────⎥\n",
       "⎣                  3                               3           ⎦"
      ]
     },
     "execution_count": 54,
     "metadata": {},
     "output_type": "execute_result"
    }
   ],
   "source": [
    "dsolve(Eq(y*(9+4*x**2)*dy, 1), y)"
   ]
  },
  {
   "cell_type": "markdown",
   "metadata": {
    "collapsed": true,
    "scrolled": true,
    "solution2": "hidden",
    "solution2_first": true
   },
   "source": [
    "<div class=\"exercises\">\n",
    "7.) $1+2y+(4-x^2)y'=0.$\n",
    "</div>"
   ]
  },
  {
   "cell_type": "code",
   "execution_count": 56,
   "metadata": {
    "hide_input": true,
    "scrolled": true,
    "solution2": "hidden"
   },
   "outputs": [
    {
     "data": {
      "image/png": "[encoded data removed]",
      "text/latex": [
       "$$y{\\left (x \\right )} = \\frac{C_{1} \\sqrt{x - 2}}{\\sqrt{x + 2}} - \\frac{1}{2}$$"
      ],
      "text/plain": [
       "            _______    \n",
       "       C₁⋅╲╱ x - 2    1\n",
       "y(x) = ──────────── - ─\n",
       "          _______     2\n",
       "        ╲╱ x + 2       "
      ]
     },
     "execution_count": 56,
     "metadata": {},
     "output_type": "execute_result"
    }
   ],
   "source": [
    "dsolve(Eq(1+2*y+(4-x**2)*dy, 0), y)"
   ]
  },
  {
   "cell_type": "markdown",
   "metadata": {
    "collapsed": true,
    "scrolled": true,
    "solution2": "hidden",
    "solution2_first": true
   },
   "source": [
    "<div class=\"exercises\">\n",
    "8.) $x(x-1)y'+y(y-1)=0.$\n",
    "</div>"
   ]
  },
  {
   "cell_type": "code",
   "execution_count": 57,
   "metadata": {
    "hide_input": true,
    "scrolled": true,
    "solution2": "hidden"
   },
   "outputs": [
    {
     "data": {
      "image/png": "[encoded data removed]",
      "text/latex": [
       "$$y{\\left (x \\right )} = \\frac{- x + 1}{C_{1} x - x + 1}$$"
      ],
      "text/plain": [
       "          -x + 1   \n",
       "y(x) = ────────────\n",
       "       C₁⋅x - x + 1"
      ]
     },
     "execution_count": 57,
     "metadata": {},
     "output_type": "execute_result"
    }
   ],
   "source": [
    "dsolve(Eq(x*(x-1)*dy+y*(y-1), 0), y)"
   ]
  },
  {
   "cell_type": "markdown",
   "metadata": {
    "collapsed": true,
    "scrolled": true,
    "solution2": "hidden",
    "solution2_first": true
   },
   "source": [
    "<div class=\"exercises\">\n",
    "9.) Keressük meg az $$(1+x^3)y'-x^2y=0$$ differenciálegyenletnek azt \n",
    "az integrálgörbéjét, amely áthalad a $P(1, 2)$ ponton.\n",
    "</div>"
   ]
  },
  {
   "cell_type": "code",
   "execution_count": 58,
   "metadata": {
    "hide_input": true,
    "scrolled": false,
    "solution2": "hidden"
   },
   "outputs": [
    {
     "data": {
      "image/png": "[encoded data removed]",
      "text/latex": [
       "$$y{\\left (x \\right )} = C_{1} \\sqrt[3]{x^{3} + 1}$$"
      ],
      "text/plain": [
       "             ________\n",
       "          3 ╱  3     \n",
       "y(x) = C₁⋅╲╱  x  + 1 "
      ]
     },
     "execution_count": 58,
     "metadata": {},
     "output_type": "execute_result"
    }
   ],
   "source": [
    "dsolve(Eq((1+x**3)*dy-x**2*y, 0), y)"
   ]
  },
  {
   "cell_type": "markdown",
   "metadata": {
    "solution2": "hidden"
   },
   "source": [
    "$C_1=\\sqrt[3]{2}.$"
   ]
  },
  {
   "cell_type": "markdown",
   "metadata": {
    "solution2": "hidden",
    "solution2_first": true
   },
   "source": [
    "<div class=\"exercises\">\n",
    "10.) Írjuk fel az $$e^{y-x}+e^{x-y}y'=0$$ differenciálegyenlet origón \n",
    "áthaladó integrálgörbéjének az egyenletét.\n",
    "</div>"
   ]
  },
  {
   "cell_type": "code",
   "execution_count": 60,
   "metadata": {
    "hide_input": true,
    "solution2": "hidden"
   },
   "outputs": [
    {
     "data": {
      "image/png": "[encoded data removed]",
      "text/latex": [
       "$$\\left [ y{\\left (x \\right )} = \\log{\\left (- \\sqrt{- \\frac{e^{2 x}}{C_{1} e^{2 x} + 1}} \\right )}, \\quad y{\\left (x \\right )} = \\log{\\left (\\sqrt{- \\frac{e^{2 x}}{C_{1} e^{2 x} + 1}} \\right )}\\right ]$$"
      ],
      "text/plain": [
       "⎡          ⎛       _____________⎞            ⎛      _____________⎞⎤\n",
       "⎢          ⎜      ╱      2⋅x    ⎟            ⎜     ╱      2⋅x    ⎟⎥\n",
       "⎢          ⎜     ╱     -ℯ       ⎟            ⎜    ╱     -ℯ       ⎟⎥\n",
       "⎢y(x) = log⎜-   ╱   ─────────── ⎟, y(x) = log⎜   ╱   ─────────── ⎟⎥\n",
       "⎢          ⎜   ╱        2⋅x     ⎟            ⎜  ╱        2⋅x     ⎟⎥\n",
       "⎣          ⎝ ╲╱     C₁⋅ℯ    + 1 ⎠            ⎝╲╱     C₁⋅ℯ    + 1 ⎠⎦"
      ]
     },
     "execution_count": 60,
     "metadata": {},
     "output_type": "execute_result"
    }
   ],
   "source": [
    "dsolve(Eq(exp(y-x)+exp(x-y)*dy, 0), y)"
   ]
  },
  {
   "cell_type": "markdown",
   "metadata": {
    "solution2": "hidden"
   },
   "source": [
    "$C_1=-2$, $\\quad$ $y(x)=\\log\\left( \\sqrt{\\frac{e^{2x}}{2e^{2x}-1}} \\right)$."
   ]
  },
  {
   "cell_type": "markdown",
   "metadata": {
    "solution2": "hidden",
    "solution2_first": true
   },
   "source": [
    "<div class=\"exercises\">\n",
    "11.) $y(1+x^2)y'+x\\sqrt{1-y^2}=0.$ \n",
    "</div>"
   ]
  },
  {
   "cell_type": "code",
   "execution_count": 64,
   "metadata": {
    "hide_input": true,
    "solution2": "hidden"
   },
   "outputs": [
    {
     "data": {
      "image/png": "[encoded data removed]",
      "text/latex": [
       "$$\\left [ y{\\left (x \\right )} = - \\frac{1}{2} \\sqrt{- 4 C_{1}^{2} + 4 C_{1} \\log{\\left (x^{2} + 1 \\right )} - \\log^{2}{\\left (x^{2} + 1 \\right )} + 4}, \\quad y{\\left (x \\right )} = \\frac{1}{2} \\sqrt{- 4 C_{1}^{2} + 4 C_{1} \\log{\\left (x^{2} + 1 \\right )} - \\log^{2}{\\left (x^{2} + 1 \\right )} + 4}\\right ]$$"
      ],
      "text/plain": [
       "⎡           _______________________________________________             ______\n",
       "⎢          ╱       2           ⎛ 2    ⎞      2⎛ 2    ⎞                 ╱      \n",
       "⎢       -╲╱  - 4⋅C₁  + 4⋅C₁⋅log⎝x  + 1⎠ - log ⎝x  + 1⎠ + 4           ╲╱  - 4⋅C\n",
       "⎢y(x) = ────────────────────────────────────────────────────, y(x) = ─────────\n",
       "⎣                                2                                            \n",
       "\n",
       "_________________________________________⎤\n",
       " 2           ⎛ 2    ⎞      2⎛ 2    ⎞     ⎥\n",
       "₁  + 4⋅C₁⋅log⎝x  + 1⎠ - log ⎝x  + 1⎠ + 4 ⎥\n",
       "─────────────────────────────────────────⎥\n",
       "               2                         ⎦"
      ]
     },
     "execution_count": 64,
     "metadata": {},
     "output_type": "execute_result"
    }
   ],
   "source": [
    "dsolve(Eq(y*(1+x**2)*dy+x*sqrt(1-y**2), 0), y)"
   ]
  },
  {
   "cell_type": "markdown",
   "metadata": {
    "solution2": "hidden",
    "solution2_first": true
   },
   "source": [
    "<div class=\"exercises\">\n",
    "12.)  $y'=4\\frac{\\sin(2x)}{y},$ $\\quad$ $y(0)=1$.\n",
    "</div>"
   ]
  },
  {
   "cell_type": "code",
   "execution_count": 69,
   "metadata": {
    "hide_input": true,
    "solution2": "hidden"
   },
   "outputs": [
    {
     "data": {
      "image/png": "[encoded data removed]",
      "text/latex": [
       "$$\\left [ y{\\left (x \\right )} = - \\sqrt{C_{1} - 4 \\cos{\\left (2 x \\right )}}, \\quad y{\\left (x \\right )} = \\sqrt{C_{1} - 4 \\cos{\\left (2 x \\right )}}\\right ]$$"
      ],
      "text/plain": [
       "⎡          _________________           _________________⎤\n",
       "⎣y(x) = -╲╱ C₁ - 4⋅cos(2⋅x) , y(x) = ╲╱ C₁ - 4⋅cos(2⋅x) ⎦"
      ]
     },
     "execution_count": 69,
     "metadata": {},
     "output_type": "execute_result"
    }
   ],
   "source": [
    "dsolve(Eq(dy, 4*sin(2*x)/y), y)"
   ]
  },
  {
   "cell_type": "markdown",
   "metadata": {
    "solution2": "hidden"
   },
   "source": [
    "$C_1=5$, $\\quad$ $y(x)=\\sqrt{5-4\\cos(2x)}$."
   ]
  },
  {
   "cell_type": "markdown",
   "metadata": {
    "solution2": "hidden",
    "solution2_first": true
   },
   "source": [
    "<div class=\"exercises\">\n",
    "13.)  $y'=-y\\frac{1+2x^2}{x}$, $\\quad$ $y(1)=2$.\n",
    "</div>"
   ]
  },
  {
   "cell_type": "code",
   "execution_count": 70,
   "metadata": {
    "hide_input": true,
    "solution2": "hidden"
   },
   "outputs": [
    {
     "data": {
      "image/png": "[encoded data removed]",
      "text/latex": [
       "$$y{\\left (x \\right )} = \\frac{C_{1}}{x} e^{- x^{2}}$$"
      ],
      "text/plain": [
       "             2\n",
       "           -x \n",
       "       C₁⋅ℯ   \n",
       "y(x) = ───────\n",
       "          x   "
      ]
     },
     "execution_count": 70,
     "metadata": {},
     "output_type": "execute_result"
    }
   ],
   "source": [
    "dsolve(Eq(dy, -y*(1+2*x**2)/x), y)"
   ]
  },
  {
   "cell_type": "markdown",
   "metadata": {
    "solution2": "hidden"
   },
   "source": [
    "$C_1=2e$, $\\quad$ $y(x)=\\frac{2}{x}e^{1-x^2}$."
   ]
  },
  {
   "cell_type": "markdown",
   "metadata": {
    "solution2": "hidden",
    "solution2_first": true
   },
   "source": [
    "<div class=\"exercises\">\n",
    "14.)  $y'=\\frac{y^2-1}{x}$, $\\quad$ $y(1)=2$.\n",
    "</div>"
   ]
  },
  {
   "cell_type": "code",
   "execution_count": 73,
   "metadata": {
    "hide_input": false,
    "scrolled": true,
    "solution2": "hidden"
   },
   "outputs": [
    {
     "data": {
      "image/png": "[encoded data removed]",
      "text/latex": [
       "$$y{\\left (x \\right )} = - \\frac{x^{2} e^{2 C_{1}} + 1}{x^{2} e^{2 C_{1}} - 1}$$"
      ],
      "text/plain": [
       "        ⎛ 2  2⋅C₁    ⎞ \n",
       "       -⎝x ⋅ℯ     + 1⎠ \n",
       "y(x) = ────────────────\n",
       "          2  2⋅C₁      \n",
       "         x ⋅ℯ     - 1  "
      ]
     },
     "execution_count": 73,
     "metadata": {},
     "output_type": "execute_result"
    }
   ],
   "source": [
    "dsolve(Eq(dy, (y**2-1)/x), y)"
   ]
  },
  {
   "cell_type": "code",
   "execution_count": 74,
   "metadata": {
    "hide_input": true,
    "scrolled": false,
    "solution2": "hidden"
   },
   "outputs": [
    {
     "data": {
      "image/png": "[encoded data removed]",
      "text/latex": [
       "$$\\left [ - \\frac{1}{2} \\log{\\left (3 \\right )} + i \\pi, \\quad - \\frac{1}{2} \\log{\\left (3 \\right )}\\right ]$$"
      ],
      "text/plain": [
       "⎡  log(3)        -log(3) ⎤\n",
       "⎢- ────── + ⅈ⋅π, ────────⎥\n",
       "⎣    2              2    ⎦"
      ]
     },
     "execution_count": 74,
     "metadata": {},
     "output_type": "execute_result"
    }
   ],
   "source": [
    "C_1 = Symbol('C_1')\n",
    "solve(-(exp(2*C_1)+1)/(exp(2*C_1)-1)-2, C_1)"
   ]
  },
  {
   "cell_type": "markdown",
   "metadata": {
    "solution2": "hidden"
   },
   "source": [
    "$y(x)=\\frac{3+x^2}{3-x^2}$."
   ]
  },
  {
   "cell_type": "markdown",
   "metadata": {
    "collapsed": true
   },
   "source": [
    "## Szeparábilisra visszavezethető egyenletek"
   ]
  },
  {
   "cell_type": "markdown",
   "metadata": {
    "collapsed": true,
    "solution2": "hidden",
    "solution2_first": true
   },
   "source": [
    "<div class=\"exercises\">\n",
    "1.) $x^2+y^2=xyy'$.\n",
    "</div>"
   ]
  },
  {
   "cell_type": "markdown",
   "metadata": {
    "collapsed": true,
    "solution2": "hidden"
   },
   "source": [
    "<p class=\"myp\">$y=xu$ helyettesítés.</p>"
   ]
  },
  {
   "cell_type": "code",
   "execution_count": 9,
   "metadata": {
    "hide_input": true,
    "solution2": "hidden"
   },
   "outputs": [
    {
     "data": {
      "image/png": "[encoded data removed]",
      "text/latex": [
       "$$\\left [ y{\\left (x \\right )} = - x \\sqrt{C_{1} + 2 \\log{\\left (x \\right )}}, \\quad y{\\left (x \\right )} = x \\sqrt{C_{1} + 2 \\log{\\left (x \\right )}}\\right ]$$"
      ],
      "text/plain": [
       "⎡            _______________             _______________⎤\n",
       "⎣y(x) = -x⋅╲╱ C₁ + 2⋅log(x) , y(x) = x⋅╲╱ C₁ + 2⋅log(x) ⎦"
      ]
     },
     "execution_count": 9,
     "metadata": {},
     "output_type": "execute_result"
    }
   ],
   "source": [
    "dsolve(Eq(x**2+y**2, x*y*dy), y)"
   ]
  },
  {
   "cell_type": "markdown",
   "metadata": {
    "collapsed": true,
    "solution2": "hidden",
    "solution2_first": true
   },
   "source": [
    "<div class=\"exercises\">\n",
    "2.) $x^2 y'=x^2+xy+y^2$.\n",
    "</div>"
   ]
  },
  {
   "cell_type": "markdown",
   "metadata": {
    "collapsed": true,
    "solution2": "hidden"
   },
   "source": [
    "<p class=\"myp\">$y=xu$ helyettesítés.</p>"
   ]
  },
  {
   "cell_type": "code",
   "execution_count": 12,
   "metadata": {
    "hide_input": true,
    "scrolled": true,
    "solution2": "hidden"
   },
   "outputs": [
    {
     "data": {
      "image/png": "[encoded data removed]",
      "text/latex": [
       "$$y{\\left (x \\right )} = \\frac{x}{\\tan{\\left (C_{1} - \\log{\\left (x \\right )} \\right )}}$$"
      ],
      "text/plain": [
       "              x        \n",
       "y(x) = ────────────────\n",
       "       tan(C₁ - log(x))"
      ]
     },
     "execution_count": 12,
     "metadata": {},
     "output_type": "execute_result"
    }
   ],
   "source": [
    "dsolve(Eq(x**2*dy, x**2+x*y+y**2), y)"
   ]
  },
  {
   "cell_type": "markdown",
   "metadata": {
    "collapsed": true
   },
   "source": [
    "## Elsőrendű egyenletek"
   ]
  },
  {
   "cell_type": "markdown",
   "metadata": {
    "collapsed": true,
    "solution2": "hidden",
    "solution2_first": true
   },
   "source": [
    "<div class=\"exercises\">\n",
    "1.) $xy'+y=x^3$.\n",
    "</div>"
   ]
  },
  {
   "cell_type": "code",
   "execution_count": 17,
   "metadata": {
    "hide_input": true,
    "solution2": "hidden"
   },
   "outputs": [
    {
     "data": {
      "image/png": "[encoded data removed]",
      "text/latex": [
       "$$y{\\left (x \\right )} = \\frac{C_{1}}{x} + \\frac{x^{3}}{4}$$"
      ],
      "text/plain": [
       "             3\n",
       "       C₁   x \n",
       "y(x) = ── + ──\n",
       "       x    4 "
      ]
     },
     "execution_count": 17,
     "metadata": {},
     "output_type": "execute_result"
    }
   ],
   "source": [
    "dsolve(Eq(x*dy + y, x**3), y)"
   ]
  },
  {
   "cell_type": "markdown",
   "metadata": {
    "collapsed": true,
    "solution2": "hidden",
    "solution2_first": true
   },
   "source": [
    "<div class=\"exercises\">\n",
    "2.) $y'+4x^3 y=x^3 e^{x^4}$.\n",
    "</div>"
   ]
  },
  {
   "cell_type": "code",
   "execution_count": 18,
   "metadata": {
    "hide_input": true,
    "scrolled": true,
    "solution2": "hidden"
   },
   "outputs": [
    {
     "data": {
      "image/png": "[encoded data removed]",
      "text/latex": [
       "$$y{\\left (x \\right )} = C_{1} e^{- x^{4}} + \\frac{e^{x^{4}}}{8}$$"
      ],
      "text/plain": [
       "                  ⎛ 4⎞\n",
       "             4    ⎝x ⎠\n",
       "           -x    ℯ    \n",
       "y(x) = C₁⋅ℯ    + ─────\n",
       "                   8  "
      ]
     },
     "execution_count": 18,
     "metadata": {},
     "output_type": "execute_result"
    }
   ],
   "source": [
    "dsolve(Eq(dy+4*x**3*y, x**3*exp(x**4)), y)"
   ]
  },
  {
   "cell_type": "markdown",
   "metadata": {},
   "source": [
    "## Másodrendű állandó együtthatós egyenletek"
   ]
  },
  {
   "cell_type": "markdown",
   "metadata": {
    "solution2": "hidden",
    "solution2_first": true
   },
   "source": [
    "<div class=\"exercises\">\n",
    "1.) $2y''-9y'+4y=0$.\n",
    "</div>"
   ]
  },
  {
   "cell_type": "code",
   "execution_count": 20,
   "metadata": {
    "hide_input": true,
    "solution2": "hidden"
   },
   "outputs": [
    {
     "data": {
      "image/png": "[encoded data removed]",
      "text/latex": [
       "$$y{\\left (x \\right )} = C_{1} \\sqrt{e^{x}} + C_{2} e^{4 x}$$"
      ],
      "text/plain": [
       "             ____          \n",
       "            ╱  x        4⋅x\n",
       "y(x) = C₁⋅╲╱  ℯ   + C₂⋅ℯ   "
      ]
     },
     "execution_count": 20,
     "metadata": {},
     "output_type": "execute_result"
    }
   ],
   "source": [
    "dsolve(Eq(2*ddy-9*dy+4*y, 0), y)"
   ]
  },
  {
   "cell_type": "markdown",
   "metadata": {
    "solution2": "hidden",
    "solution2_first": true
   },
   "source": [
    "<div class=\"exercises\">\n",
    "2.) $y''-12y'+36y=0$.\n",
    "</div>"
   ]
  },
  {
   "cell_type": "code",
   "execution_count": 21,
   "metadata": {
    "hide_input": true,
    "solution2": "hidden"
   },
   "outputs": [
    {
     "data": {
      "image/png": "[encoded data removed]",
      "text/latex": [
       "$$y{\\left (x \\right )} = \\left(C_{1} + C_{2} x\\right) e^{6 x}$$"
      ],
      "text/plain": [
       "                    6⋅x\n",
       "y(x) = (C₁ + C₂⋅x)⋅ℯ   "
      ]
     },
     "execution_count": 21,
     "metadata": {},
     "output_type": "execute_result"
    }
   ],
   "source": [
    "dsolve(Eq(ddy-12*dy+36*y, 0), y)"
   ]
  },
  {
   "cell_type": "markdown",
   "metadata": {
    "collapsed": true,
    "solution2": "hidden",
    "solution2_first": true
   },
   "source": [
    "<div class=\"exercises\">\n",
    "3.) $y''-4y'+13y=0$.\n",
    "</div>"
   ]
  },
  {
   "cell_type": "code",
   "execution_count": 22,
   "metadata": {
    "hide_input": true,
    "solution2": "hidden"
   },
   "outputs": [
    {
     "data": {
      "image/png": "[encoded data removed]",
      "text/latex": [
       "$$y{\\left (x \\right )} = \\left(C_{1} \\sin{\\left (3 x \\right )} + C_{2} \\cos{\\left (3 x \\right )}\\right) e^{2 x}$$"
      ],
      "text/plain": [
       "                                    2⋅x\n",
       "y(x) = (C₁⋅sin(3⋅x) + C₂⋅cos(3⋅x))⋅ℯ   "
      ]
     },
     "execution_count": 22,
     "metadata": {},
     "output_type": "execute_result"
    }
   ],
   "source": [
    "dsolve(Eq(ddy-4*dy+13*y, 0), y)"
   ]
  },
  {
   "cell_type": "markdown",
   "metadata": {
    "collapsed": true,
    "solution2": "hidden",
    "solution2_first": true
   },
   "source": [
    "<div class=\"exercises\">\n",
    "4.) $y''-3y'+2y=e^x+2e^{3x}$.\n",
    "</div>"
   ]
  },
  {
   "cell_type": "code",
   "execution_count": 23,
   "metadata": {
    "hide_input": true,
    "solution2": "hidden"
   },
   "outputs": [
    {
     "data": {
      "image/png": "[encoded data removed]",
      "text/latex": [
       "$$y{\\left (x \\right )} = \\left(C_{1} + C_{2} e^{x} - x + e^{2 x}\\right) e^{x}$$"
      ],
      "text/plain": [
       "       ⎛         x        2⋅x⎞  x\n",
       "y(x) = ⎝C₁ + C₂⋅ℯ  - x + ℯ   ⎠⋅ℯ "
      ]
     },
     "execution_count": 23,
     "metadata": {},
     "output_type": "execute_result"
    }
   ],
   "source": [
    "dsolve(Eq(ddy-3*dy+2*y, exp(x)+2*exp(3*x)), y)"
   ]
  },
  {
   "cell_type": "markdown",
   "metadata": {
    "collapsed": true,
    "solution2": "hidden",
    "solution2_first": true
   },
   "source": [
    "<div class=\"exercises\">\n",
    "5.) $y''-6y'+13y=x+\\sin(3x)$.\n",
    "</div>"
   ]
  },
  {
   "cell_type": "code",
   "execution_count": 24,
   "metadata": {
    "hide_input": true,
    "solution2": "hidden"
   },
   "outputs": [
    {
     "data": {
      "image/png": "[encoded data removed]",
      "text/latex": [
       "$$y{\\left (x \\right )} = \\frac{x}{13} + \\left(C_{1} \\sin{\\left (2 x \\right )} + C_{2} \\cos{\\left (2 x \\right )}\\right) e^{3 x} + \\frac{1}{85} \\sin{\\left (3 x \\right )} + \\frac{9}{170} \\cos{\\left (3 x \\right )} + \\frac{6}{169}$$"
      ],
      "text/plain": [
       "       x                                 3⋅x   sin(3⋅x)   9⋅cos(3⋅x)    6 \n",
       "y(x) = ── + (C₁⋅sin(2⋅x) + C₂⋅cos(2⋅x))⋅ℯ    + ──────── + ────────── + ───\n",
       "       13                                         85         170       169"
      ]
     },
     "execution_count": 24,
     "metadata": {},
     "output_type": "execute_result"
    }
   ],
   "source": [
    "dsolve(Eq(ddy-6*dy+13*y, x+sin(3*x)), y)"
   ]
  },
  {
   "cell_type": "markdown",
   "metadata": {
    "collapsed": true,
    "solution2": "hidden",
    "solution2_first": true
   },
   "source": [
    "<div class=\"exercises\">\n",
    "6.) $y''+6y'+9y=2e^{-3x}$.\n",
    "</div>"
   ]
  },
  {
   "cell_type": "code",
   "execution_count": 25,
   "metadata": {
    "hide_input": true,
    "solution2": "hidden"
   },
   "outputs": [
    {
     "data": {
      "image/png": "[encoded data removed]",
      "text/latex": [
       "$$y{\\left (x \\right )} = \\left(C_{1} + C_{2} x + x^{2}\\right) e^{- 3 x}$$"
      ],
      "text/plain": [
       "       ⎛             2⎞  -3⋅x\n",
       "y(x) = ⎝C₁ + C₂⋅x + x ⎠⋅ℯ    "
      ]
     },
     "execution_count": 25,
     "metadata": {},
     "output_type": "execute_result"
    }
   ],
   "source": [
    "dsolve(Eq(ddy+6*dy+9*y, 2*exp(-3*x)), y)"
   ]
  },
  {
   "cell_type": "markdown",
   "metadata": {
    "collapsed": true,
    "solution2": "hidden",
    "solution2_first": true
   },
   "source": [
    "<div class=\"exercises\">\n",
    "7.) $y''+4y=\\cos(2x)$.\n",
    "</div>"
   ]
  },
  {
   "cell_type": "code",
   "execution_count": 28,
   "metadata": {
    "hide_input": true,
    "solution2": "hidden"
   },
   "outputs": [
    {
     "data": {
      "image/png": "[encoded data removed]",
      "text/latex": [
       "$$y{\\left (x \\right )} = C_{2} \\cos{\\left (2 x \\right )} + \\left(C_{1} + \\frac{x}{4}\\right) \\sin{\\left (2 x \\right )}$$"
      ],
      "text/plain": [
       "                     ⎛     x⎞         \n",
       "y(x) = C₂⋅cos(2⋅x) + ⎜C₁ + ─⎟⋅sin(2⋅x)\n",
       "                     ⎝     4⎠         "
      ]
     },
     "execution_count": 28,
     "metadata": {},
     "output_type": "execute_result"
    }
   ],
   "source": [
    "dsolve(Eq(ddy+4*y, cos(2*x)), y)"
   ]
  },
  {
   "cell_type": "code",
   "execution_count": 1,
   "metadata": {
    "hide_input": false
   },
   "outputs": [
    {
     "data": {
      "text/html": [
       "<style>\n",
       ".output_subarea {\n",
       "    background-color: cornsilk;\n",
       "    border: 1px solid forestgreen;\n",
       "    font-style:bold;\n",
       "}\n",
       "\n",
       "div.exercises {\n",
       "    text-align: left; \n",
       "    font-family: 'Times New Roman'; \n",
       "    font-size:1.5em; \n",
       "    font-style:bold;\n",
       "    border: 1px solid red;\n",
       "    padding: 7px 3px 7px 8px;\n",
       "    background-color: whitesmoke;\n",
       "}\n",
       "\n",
       "div.solution {\n",
       "    font-size: 125%;\n",
       "    background-color: cornsilk;\n",
       "    border: 1px solid forestgreen;\n",
       "    font-style:bold;\n",
       "}\n",
       "\n",
       "ol {    \n",
       "    padding: 15px;\n",
       "}\n",
       "\n",
       "ol li {\n",
       "    padding: 5px;\n",
       "    margin-left: 25px;\n",
       "}\n",
       "\n",
       "ol ol li { \n",
       "    list-style-type: lower-alpha;\n",
       "}\n",
       "\n",
       ".myp {\n",
       "    font-family: 'Times New Roman'; \n",
       "    font-size:1.4em; \n",
       "    font-style:bold;\n",
       "    border: 1px solid black;\n",
       "    padding: 5px 3px 5px 5px;\n",
       "}\n",
       "</style>"
      ],
      "text/plain": [
       "<IPython.core.display.HTML object>"
      ]
     },
     "metadata": {},
     "output_type": "display_data"
    }
   ],
   "source": [
    "%%html\n",
    "<style>\n",
    ".output_subarea {\n",
    "    background-color: cornsilk;\n",
    "    border: 1px solid forestgreen;\n",
    "    font-style:bold;\n",
    "}\n",
    "\n",
    "div.exercises {\n",
    "    text-align: left; \n",
    "    font-family: 'Times New Roman'; \n",
    "    font-size:1.5em; \n",
    "    font-style:bold;\n",
    "    border: 1px solid red;\n",
    "    padding: 7px 3px 7px 8px;\n",
    "    background-color: whitesmoke;\n",
    "}\n",
    "\n",
    "div.solution {\n",
    "    font-size: 125%;\n",
    "    background-color: cornsilk;\n",
    "    border: 1px solid forestgreen;\n",
    "    font-style:bold;\n",
    "}\n",
    "\n",
    "ol {    \n",
    "    padding: 15px;\n",
    "}\n",
    "\n",
    "ol li {\n",
    "    padding: 5px;\n",
    "    margin-left: 25px;\n",
    "}\n",
    "\n",
    "ol ol li { \n",
    "    list-style-type: lower-alpha;\n",
    "}\n",
    "\n",
    ".myp {\n",
    "    font-family: 'Times New Roman'; \n",
    "    font-size:1.4em; \n",
    "    font-style:bold;\n",
    "    border: 1px solid black;\n",
    "    padding: 5px 3px 5px 5px;\n",
    "}\n",
    "</style>"
   ]
  },
  {
   "cell_type": "code",
   "execution_count": 3,
   "metadata": {
    "scrolled": true
   },
   "outputs": [
    {
     "data": {
      "text/html": [
       "<script src=\"https://cdn.rawgit.com/parente/4c3e6936d0d7a46fd071/raw/65b816fb9bdd3c28b4ddf3af602bfd6015486383/code_toggle.js\"></script>"
      ],
      "text/plain": [
       "<IPython.core.display.HTML object>"
      ]
     },
     "metadata": {},
     "output_type": "display_data"
    }
   ],
   "source": [
    "%%html\n",
    "<script src=\"https://cdn.rawgit.com/parente/4c3e6936d0d7a46fd071/raw/65b816fb9bdd3c28b4ddf3af602bfd6015486383/code_toggle.js\"></script>"
   ]
  }
 ],
 "metadata": {
  "hide_input": true,
  "kernelspec": {
   "display_name": "Python 3",
   "language": "python",
   "name": "python3"
  },
  "language_info": {
   "codemirror_mode": {
    "name": "ipython",
    "version": 3
   },
   "file_extension": ".py",
   "mimetype": "text/x-python",
   "name": "python",
   "nbconvert_exporter": "python",
   "pygments_lexer": "ipython3",
   "version": "3.6.1"
  },
  "latex_envs": {
   "LaTeX_envs_menu_present": true,
   "autocomplete": true,
   "bibliofile": "biblio.bib",
   "cite_by": "apalike",
   "current_citInitial": 1,
   "eqLabelWithNumbers": true,
   "eqNumInitial": 1,
   "hotkeys": {
    "equation": "Ctrl-E",
    "itemize": "Ctrl-I"
   },
   "labels_anchors": false,
   "latex_user_defs": false,
   "report_style_numbering": false,
   "user_envs_cfg": false
  },
  "toc": {
   "colors": {
    "hover_highlight": "#DAA520",
    "navigate_num": "#0000ff",
    "navigate_text": "#0000ff",
    "running_highlight": "#FF0000",
    "selected_highlight": "#FFD700",
    "sidebar_border": "#EEEEEE",
    "wrapper_background": "#FFFFFF"
   },
   "moveMenuLeft": true,
   "nav_menu": {
    "height": "101px",
    "width": "252px"
   },
   "navigate_menu": true,
   "number_sections": true,
   "sideBar": true,
   "threshold": 4,
   "toc_cell": true,
   "toc_position": {
    "height": "808px",
    "left": "0px",
    "right": "1162.34px",
    "top": "106.997px",
    "width": "244px"
   },
   "toc_section_display": "block",
   "toc_window_display": false,
   "widenNotebook": false
  }
 },
 "nbformat": 4,
 "nbformat_minor": 2
}
